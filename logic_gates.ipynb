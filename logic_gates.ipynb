{
  "nbformat": 4,
  "nbformat_minor": 0,
  "metadata": {
    "colab": {
      "provenance": [],
      "authorship_tag": "ABX9TyNt5GgtL4vNnWVRFe2EIRn9",
      "include_colab_link": true
    },
    "kernelspec": {
      "name": "python3",
      "display_name": "Python 3"
    },
    "language_info": {
      "name": "python"
    }
  },
  "cells": [
    {
      "cell_type": "markdown",
      "metadata": {
        "id": "view-in-github",
        "colab_type": "text"
      },
      "source": [
        "<a href=\"https://colab.research.google.com/github/Yuvi9159/Yuvi9159/blob/main/logic_gates.ipynb\" target=\"_parent\"><img src=\"https://colab.research.google.com/assets/colab-badge.svg\" alt=\"Open In Colab\"/></a>"
      ]
    },
    {
      "cell_type": "markdown",
      "source": [
        "AND gate"
      ],
      "metadata": {
        "id": "0XlZWcwaRLC5"
      }
    },
    {
      "cell_type": "code",
      "execution_count": null,
      "metadata": {
        "id": "yYBcPRjEQxI8"
      },
      "outputs": [],
      "source": [
        "\n",
        "def AND (a, b):\n",
        "\n",
        "\tif a == 1 and b == 1:\n",
        "\t\treturn True\n",
        "\telse:\n",
        "\t\treturn False\n",
        "\n"
      ]
    },
    {
      "cell_type": "code",
      "source": [
        "\n",
        "if __name__=='__main__':\n",
        "\tprint(AND(1, 1))\n"
      ],
      "metadata": {
        "colab": {
          "base_uri": "https://localhost:8080/"
        },
        "id": "f4Ddfq1xQ8ka",
        "outputId": "e4d78ca0-77b8-4f76-b49e-1ae34331bdd2"
      },
      "execution_count": null,
      "outputs": [
        {
          "output_type": "stream",
          "name": "stdout",
          "text": [
            "True\n"
          ]
        }
      ]
    },
    {
      "cell_type": "code",
      "source": [
        "\n",
        "\tprint(\"+---------------+----------------+\")\n",
        "\tprint(\" | AND Truth Table | Result |\")\n",
        "\tprint(\" A = False, B = False | A AND B =\",AND(False,False),\" | \")\n",
        "\tprint(\" A = False, B = True | A AND B =\",AND(False,True),\" | \")\n",
        "\tprint(\" A = True, B = False | A AND B =\",AND(True,False),\" | \")\n",
        "\tprint(\" A = True, B = True | A AND B =\",AND(True,True),\" | \")"
      ],
      "metadata": {
        "colab": {
          "base_uri": "https://localhost:8080/"
        },
        "id": "3yOgbOKXRBmp",
        "outputId": "baec0a4e-0e52-476d-a67b-7fd1b89637ab"
      },
      "execution_count": null,
      "outputs": [
        {
          "output_type": "stream",
          "name": "stdout",
          "text": [
            "+---------------+----------------+\n",
            " | AND Truth Table | Result |\n",
            " A = False, B = False | A AND B = False  | \n",
            " A = False, B = True | A AND B = False  | \n",
            " A = True, B = False | A AND B = False  | \n",
            " A = True, B = True | A AND B = True  | \n"
          ]
        }
      ]
    },
    {
      "cell_type": "markdown",
      "source": [
        "NAND gate"
      ],
      "metadata": {
        "id": "VJj8raePRS7K"
      }
    },
    {
      "cell_type": "code",
      "source": [
        "\n",
        "def NAND (a, b):\n",
        "\tif a == 1 and b == 1:\n",
        "\t\treturn False\n",
        "\telse:\n",
        "\t\treturn True\n",
        "\n"
      ],
      "metadata": {
        "id": "_Cja5UrsRWzq"
      },
      "execution_count": null,
      "outputs": []
    },
    {
      "cell_type": "code",
      "source": [
        "\n",
        "\n",
        "if __name__=='__main__':\n",
        "\tprint(NAND(1, 0))\n"
      ],
      "metadata": {
        "colab": {
          "base_uri": "https://localhost:8080/"
        },
        "id": "TtP_FgR8Rd6j",
        "outputId": "0f0f8d44-8b64-4853-d1cf-89f8685ed807"
      },
      "execution_count": null,
      "outputs": [
        {
          "output_type": "stream",
          "name": "stdout",
          "text": [
            "True\n"
          ]
        }
      ]
    },
    {
      "cell_type": "code",
      "source": [
        "\n",
        "\tprint(\"+---------------+----------------+\")\n",
        "\tprint(\" | NAND Truth Table | Result |\")\n",
        "\tprint(\" A = False, B = False | A AND B =\",NAND(False,False),\" | \")\n",
        "\tprint(\" A = False, B = True | A AND B =\",NAND(False,True),\" | \")\n",
        "\tprint(\" A = True, B = False | A AND B =\",NAND(True,False),\" | \")\n",
        "\tprint(\" A = True, B = True | A AND B =\",NAND(True,True),\" | \")"
      ],
      "metadata": {
        "colab": {
          "base_uri": "https://localhost:8080/"
        },
        "id": "WCXvQnGpRg0h",
        "outputId": "13d0816f-80f5-4843-ef97-693973947d51"
      },
      "execution_count": null,
      "outputs": [
        {
          "output_type": "stream",
          "name": "stdout",
          "text": [
            "+---------------+----------------+\n",
            " | NAND Truth Table | Result |\n",
            " A = False, B = False | A AND B = True  | \n",
            " A = False, B = True | A AND B = True  | \n",
            " A = True, B = False | A AND B = True  | \n",
            " A = True, B = True | A AND B = False  | \n"
          ]
        }
      ]
    },
    {
      "cell_type": "markdown",
      "source": [
        "OR gate"
      ],
      "metadata": {
        "id": "OZv2gGQFRmwJ"
      }
    },
    {
      "cell_type": "code",
      "source": [
        "\n",
        "def OR(a, b):\n",
        "\tif a == 1 or b ==1:\n",
        "\t\treturn True\n",
        "\telse:\n",
        "\t\treturn False\n",
        "\n"
      ],
      "metadata": {
        "id": "exPePRSQRxUa"
      },
      "execution_count": null,
      "outputs": []
    },
    {
      "cell_type": "code",
      "source": [
        "\n",
        "if __name__=='__main__':\n",
        "\tprint(OR(0, 0))\n",
        "\n"
      ],
      "metadata": {
        "colab": {
          "base_uri": "https://localhost:8080/"
        },
        "id": "whHH6-IxR4Rh",
        "outputId": "341edfd9-40ab-4cc1-d87e-d4ffe6b22ff6"
      },
      "execution_count": null,
      "outputs": [
        {
          "output_type": "stream",
          "name": "stdout",
          "text": [
            "False\n"
          ]
        }
      ]
    },
    {
      "cell_type": "code",
      "source": [
        "\n",
        "\tprint(\"+---------------+----------------+\")\n",
        "\tprint(\" | OR Truth Table | Result |\")\n",
        "\tprint(\" A = False, B = False | A OR B =\",OR(False,False),\" | \")\n",
        "\tprint(\" A = False, B = True | A OR B =\",OR(False,True),\" | \")\n",
        "\tprint(\" A = True, B = False | A OR B =\",OR(True,False),\" | \")\n",
        "\tprint(\" A = True, B = True | A OR B =\",OR(True,True),\" | \")\n"
      ],
      "metadata": {
        "colab": {
          "base_uri": "https://localhost:8080/"
        },
        "id": "ofSnqPrNR7mh",
        "outputId": "ab095a3d-616a-4c65-854e-dd2acc0d763d"
      },
      "execution_count": null,
      "outputs": [
        {
          "output_type": "stream",
          "name": "stdout",
          "text": [
            "+---------------+----------------+\n",
            " | OR Truth Table | Result |\n",
            " A = False, B = False | A OR B = False  | \n",
            " A = False, B = True | A OR B = True  | \n",
            " A = True, B = False | A OR B = True  | \n",
            " A = True, B = True | A OR B = True  | \n"
          ]
        }
      ]
    },
    {
      "cell_type": "markdown",
      "source": [
        "XOR gate"
      ],
      "metadata": {
        "id": "ay7YTyEXSKQY"
      }
    },
    {
      "cell_type": "code",
      "source": [
        "\n",
        "def XOR (a, b):\n",
        "\tif a != b:\n",
        "\t\treturn 1\n",
        "\telse:\n",
        "\t\treturn 0\n",
        "\n",
        "\n"
      ],
      "metadata": {
        "id": "FI5dOPUPSOih"
      },
      "execution_count": null,
      "outputs": []
    },
    {
      "cell_type": "code",
      "source": [
        "if __name__=='__main__':\n",
        "\tprint(XOR(5, 5))\n"
      ],
      "metadata": {
        "colab": {
          "base_uri": "https://localhost:8080/"
        },
        "id": "uGcDYIkOSUSp",
        "outputId": "bc87aa96-26df-437f-81d2-c246db0e4413"
      },
      "execution_count": null,
      "outputs": [
        {
          "output_type": "stream",
          "name": "stdout",
          "text": [
            "0\n"
          ]
        }
      ]
    },
    {
      "cell_type": "code",
      "source": [
        "\n",
        "\tprint(\"+---------------+----------------+\")\n",
        "\tprint(\" | XOR Truth Table | Result |\")\n",
        "\tprint(\" A = False, B = False | A XOR B =\",XOR(False,False),\" | \")\n",
        "\tprint(\" A = False, B = True | A XOR B =\",XOR(False,True),\" | \")\n",
        "\tprint(\" A = True, B = False | A XOR B =\",XOR(True,False),\" | \")\n",
        "\tprint(\" A = True, B = True | A XOR B =\",XOR(True,True),\" | \")"
      ],
      "metadata": {
        "colab": {
          "base_uri": "https://localhost:8080/"
        },
        "id": "4e-s2UBgSXc7",
        "outputId": "ad4899b9-690e-4d20-c6b8-9b032380e9e8"
      },
      "execution_count": null,
      "outputs": [
        {
          "output_type": "stream",
          "name": "stdout",
          "text": [
            "+---------------+----------------+\n",
            " | XOR Truth Table | Result |\n",
            " A = False, B = False | A XOR B = 0  | \n",
            " A = False, B = True | A XOR B = 1  | \n",
            " A = True, B = False | A XOR B = 1  | \n",
            " A = True, B = True | A XOR B = 0  | \n"
          ]
        }
      ]
    },
    {
      "cell_type": "markdown",
      "source": [
        "NOT gate"
      ],
      "metadata": {
        "id": "kN93WvrISdpR"
      }
    },
    {
      "cell_type": "code",
      "source": [
        "\n",
        "def NOT(a):\n",
        "\treturn not a\n"
      ],
      "metadata": {
        "id": "U7j7DvNOSffR"
      },
      "execution_count": null,
      "outputs": []
    },
    {
      "cell_type": "code",
      "source": [
        "if __name__=='__main__':\n",
        "\tprint(NOT(0))\n",
        "\n"
      ],
      "metadata": {
        "colab": {
          "base_uri": "https://localhost:8080/"
        },
        "id": "wKEhsshMSkiB",
        "outputId": "f50eeeb1-40d1-4aa3-db6c-de6b85445e80"
      },
      "execution_count": null,
      "outputs": [
        {
          "output_type": "stream",
          "name": "stdout",
          "text": [
            "True\n"
          ]
        }
      ]
    },
    {
      "cell_type": "code",
      "source": [
        "\n",
        "\tprint(\"+---------------+----------------+\")\n",
        "\tprint(\" | NOT Truth Table | Result |\")\n",
        "\tprint(\" A = False | A NOT =\",NOT(False),\" | \")\n",
        "\tprint(\" A = True, | A NOT =\",NOT(True),\" | \")\n"
      ],
      "metadata": {
        "colab": {
          "base_uri": "https://localhost:8080/"
        },
        "id": "LvDyLMYcSmxw",
        "outputId": "b657c8f4-1dcc-415d-d7f8-a358d7e86307"
      },
      "execution_count": null,
      "outputs": [
        {
          "output_type": "stream",
          "name": "stdout",
          "text": [
            "+---------------+----------------+\n",
            " | NOT Truth Table | Result |\n",
            " A = False | A NOT = True  | \n",
            " A = True, | A NOT = False  | \n"
          ]
        }
      ]
    },
    {
      "cell_type": "markdown",
      "source": [
        "NOR gate"
      ],
      "metadata": {
        "id": "QIEHTzD0SokZ"
      }
    },
    {
      "cell_type": "code",
      "source": [
        "\n",
        "def NOR(a, b):\n",
        "\tif(a == 0) and (b == 0):\n",
        "\t\treturn 1\n",
        "\telif(a == 0) and (b == 1):\n",
        "\t\treturn 0\n",
        "\telif(a == 1) and (b == 0):\n",
        "\t\treturn 0\n",
        "\telif(a == 1) and (b == 1):\n",
        "\t\treturn 0\n",
        "\n"
      ],
      "metadata": {
        "id": "wX9JMlbkSu9B"
      },
      "execution_count": null,
      "outputs": []
    },
    {
      "cell_type": "code",
      "source": [
        "\n",
        "if __name__=='__main__':\n",
        "\tprint(NOR(0, 0))\n"
      ],
      "metadata": {
        "colab": {
          "base_uri": "https://localhost:8080/"
        },
        "id": "-Rmg4LnDS0MR",
        "outputId": "08bc09c6-09a2-4dad-89fe-a7aaba95291d"
      },
      "execution_count": null,
      "outputs": [
        {
          "output_type": "stream",
          "name": "stdout",
          "text": [
            "1\n"
          ]
        }
      ]
    },
    {
      "cell_type": "code",
      "source": [
        "\n",
        "\tprint(\"+---------------+----------------+\")\n",
        "\tprint(\" | NOR Truth Table | Result |\")\n",
        "\tprint(\" A = False, B = False | A NOR B =\",NOR(False,False),\" | \")\n",
        "\tprint(\" A = False, B = True | A NOR B =\",NOR(False,True),\" | \")\n",
        "\tprint(\" A = True, B = False | A NOR B =\",NOR(True,False),\" | \")\n",
        "\tprint(\" A = True, B = True | A NOR B =\",NOR(True,True),\" | \")"
      ],
      "metadata": {
        "colab": {
          "base_uri": "https://localhost:8080/"
        },
        "id": "MxRnwLUcS195",
        "outputId": "5b97f4e8-2bbe-4460-98bf-c30b9efe16e7"
      },
      "execution_count": null,
      "outputs": [
        {
          "output_type": "stream",
          "name": "stdout",
          "text": [
            "+---------------+----------------+\n",
            " | NOR Truth Table | Result |\n",
            " A = False, B = False | A NOR B = 1  | \n",
            " A = False, B = True | A NOR B = 0  | \n",
            " A = True, B = False | A NOR B = 0  | \n",
            " A = True, B = True | A NOR B = 0  | \n"
          ]
        }
      ]
    },
    {
      "cell_type": "markdown",
      "source": [
        "XNOR Gate"
      ],
      "metadata": {
        "id": "t3xqgPgKTBiZ"
      }
    },
    {
      "cell_type": "code",
      "source": [
        "\n",
        "def XNOR(a,b):\n",
        "\tif(a == b):\n",
        "\t\treturn 1\n",
        "\telse:\n",
        "\t\treturn 0\n"
      ],
      "metadata": {
        "id": "_UZp95QpTCRZ"
      },
      "execution_count": null,
      "outputs": []
    },
    {
      "cell_type": "code",
      "source": [
        "\n",
        "if __name__=='__main__':\n",
        "\tprint(XNOR(1,1))\n"
      ],
      "metadata": {
        "id": "0-o56M3dTHlx",
        "outputId": "f9b8157e-7ae1-4cd3-b82e-c3c777796e41",
        "colab": {
          "base_uri": "https://localhost:8080/"
        }
      },
      "execution_count": null,
      "outputs": [
        {
          "output_type": "stream",
          "name": "stdout",
          "text": [
            "1\n"
          ]
        }
      ]
    },
    {
      "cell_type": "code",
      "source": [
        "\n",
        "\tprint(\"+---------------+----------------+\")\n",
        "\tprint(\" | XNOR Truth Table | Result |\")\n",
        "\tprint(\" A = False, B = False | A XNOR B =\",XNOR(False,False),\" | \")\n",
        "\tprint(\" A = False, B = True | A XNOR B =\",XNOR(False,True),\" | \")\n",
        "\tprint(\" A = True, B = False | A XNOR B =\",XNOR(True,False),\" | \")\n",
        "\tprint(\" A = True, B = True | A XNOR B =\",XNOR(True,True),\" | \")\n"
      ],
      "metadata": {
        "id": "QnFp7WnzTKWB",
        "outputId": "b5251c37-000a-4d6d-ae18-b3fd6f3a4a0e",
        "colab": {
          "base_uri": "https://localhost:8080/"
        }
      },
      "execution_count": null,
      "outputs": [
        {
          "output_type": "stream",
          "name": "stdout",
          "text": [
            "+---------------+----------------+\n",
            " | XNOR Truth Table | Result |\n",
            " A = False, B = False | A XNOR B = 1  | \n",
            " A = False, B = True | A XNOR B = 0  | \n",
            " A = True, B = False | A XNOR B = 0  | \n",
            " A = True, B = True | A XNOR B = 1  | \n"
          ]
        }
      ]
    }
  ]
}